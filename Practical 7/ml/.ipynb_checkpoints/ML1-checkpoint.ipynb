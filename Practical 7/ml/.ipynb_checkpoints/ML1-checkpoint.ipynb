{
 "cells": [
  {
   "cell_type": "code",
   "execution_count": 7,
   "id": "9e48392f",
   "metadata": {},
   "outputs": [
    {
     "name": "stdout",
     "output_type": "stream",
     "text": [
      "Requirement already satisfied: sklearn in c:\\users\\abhis\\appdata\\local\\programs\\python\\python39\\lib\\site-packages (0.0)\n",
      "Requirement already satisfied: scikit-learn in c:\\users\\abhis\\appdata\\local\\programs\\python\\python39\\lib\\site-packages (from sklearn) (1.1.2)\n",
      "Requirement already satisfied: joblib>=1.0.0 in c:\\users\\abhis\\appdata\\local\\programs\\python\\python39\\lib\\site-packages (from scikit-learn->sklearn) (1.2.0)\n",
      "Requirement already satisfied: numpy>=1.17.3 in c:\\users\\abhis\\appdata\\local\\programs\\python\\python39\\lib\\site-packages (from scikit-learn->sklearn) (1.22.3)\n",
      "Requirement already satisfied: threadpoolctl>=2.0.0 in c:\\users\\abhis\\appdata\\local\\programs\\python\\python39\\lib\\site-packages (from scikit-learn->sklearn) (3.1.0)\n",
      "Requirement already satisfied: scipy>=1.3.2 in c:\\users\\abhis\\appdata\\local\\programs\\python\\python39\\lib\\site-packages (from scikit-learn->sklearn) (1.9.2)\n",
      "Note: you may need to restart the kernel to use updated packages.\n"
     ]
    }
   ],
   "source": [
    "pip install sklearn"
   ]
  },
  {
   "cell_type": "code",
   "execution_count": 3,
   "id": "15b8ebba",
   "metadata": {},
   "outputs": [],
   "source": [
    "import numpy\n",
    "import matplotlib.pyplot as plt\n",
    "import seaborn as sns \n",
    "import random"
   ]
  },
  {
   "cell_type": "code",
   "execution_count": 11,
   "id": "06c6d5a8",
   "metadata": {},
   "outputs": [],
   "source": [
    "def studentReg(ages_train,net_worths_train):\n",
    "    from sklearn.linear_model import LinearRegression\n",
    "    reg=LinearRegression().fit(ages_train,net_worths_train)\n",
    "    return reg"
   ]
  },
  {
   "cell_type": "code",
   "execution_count": 13,
   "id": "1a8762f1",
   "metadata": {},
   "outputs": [
    {
     "name": "stdout",
     "output_type": "stream",
     "text": [
      "coefficient [[6.1383403]]\n",
      "Intercept [1.67536766]\n",
      "Training data 0.8699170407521681\n",
      "Testing data 0.8910391456387174\n"
     ]
    }
   ],
   "source": [
    "numpy.random.seed(42)\n",
    "ages=[]\n",
    "for ii in range(250):\n",
    "    ages.append(random.randint(18,75))\n",
    "net_worths=[ii*6.25+numpy.random.normal(scale=40) for ii in ages]\n",
    "\n",
    "ages=numpy.reshape(numpy.array(ages),(len(ages),1))\n",
    "\n",
    "net_worths=numpy.reshape(numpy.array(net_worths),(len(net_worths),1))\n",
    "\n",
    "from sklearn.model_selection import train_test_split\n",
    "ages_train, ages_test, net_worths_train, net_worths_test=train_test_split(ages,net_worths)\n",
    "\n",
    "reg1=studentReg(ages_train,net_worths_train)\n",
    "\n",
    "print(\"coefficient\",reg1.coef_)\n",
    "print(\"Intercept\",reg1.intercept_)\n",
    "print(\"Training data\",reg1.score(ages_train,net_worths_train))\n",
    "print(\"Testing data\",reg1.score(ages_test,net_worths_test))"
   ]
  },
  {
   "cell_type": "code",
   "execution_count": null,
   "id": "262323de",
   "metadata": {},
   "outputs": [],
   "source": []
  }
 ],
 "metadata": {
  "kernelspec": {
   "display_name": "Python 3 (ipykernel)",
   "language": "python",
   "name": "python3"
  },
  "language_info": {
   "codemirror_mode": {
    "name": "ipython",
    "version": 3
   },
   "file_extension": ".py",
   "mimetype": "text/x-python",
   "name": "python",
   "nbconvert_exporter": "python",
   "pygments_lexer": "ipython3",
   "version": "3.9.6"
  }
 },
 "nbformat": 4,
 "nbformat_minor": 5
}
